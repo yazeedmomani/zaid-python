{
 "cells": [
  {
   "cell_type": "markdown",
   "id": "ac14c64c-0d0f-491d-92e1-265911fd9bd6",
   "metadata": {},
   "source": [
    "# Lesson 01"
   ]
  },
  {
   "cell_type": "markdown",
   "id": "be8a5fe2-94dd-41ef-b77f-9f631d8a5ab9",
   "metadata": {},
   "source": [
    "## Print"
   ]
  },
  {
   "cell_type": "markdown",
   "id": "57baffdc-48cc-47ff-bc0a-66ef50772f6d",
   "metadata": {},
   "source": [
    "`print()` can be used for debugging or printing stuff on the terminal in general.  \n",
    "  \n",
    "**debuggin**: Means fixing broken code."
   ]
  },
  {
   "cell_type": "markdown",
   "id": "429e9172-0e23-4e2a-a770-37195c1c73a0",
   "metadata": {},
   "source": [
    "**Example 1**"
   ]
  },
  {
   "cell_type": "code",
   "execution_count": 1,
   "id": "1b477e72-26b4-47a7-896d-07ec9b8d4e7b",
   "metadata": {},
   "outputs": [
    {
     "name": "stdout",
     "output_type": "stream",
     "text": [
      "Hello World\n"
     ]
    }
   ],
   "source": [
    "print(\"Hello World\")"
   ]
  },
  {
   "cell_type": "markdown",
   "id": "198ee218-dbd5-4120-aec7-f2391d67147f",
   "metadata": {},
   "source": [
    "**Example 2**"
   ]
  },
  {
   "cell_type": "code",
   "execution_count": 6,
   "id": "12ac3ad0-fdba-424d-a9cd-08ca04106d79",
   "metadata": {},
   "outputs": [],
   "source": [
    "unknown_variable = {\n",
    "    \"id\": 1,\n",
    "    \"name\": \"Zaid\",\n",
    "    \"age\": 15\n",
    "}"
   ]
  },
  {
   "cell_type": "code",
   "execution_count": 5,
   "id": "3aea1f5d-93e7-47ef-82c8-85ef4c6374ba",
   "metadata": {},
   "outputs": [
    {
     "name": "stdout",
     "output_type": "stream",
     "text": [
      "{'id': 1, 'name': 'Zaid', 'age': 15}\n"
     ]
    }
   ],
   "source": [
    "print(unknown_variable)"
   ]
  },
  {
   "cell_type": "markdown",
   "id": "e98f6be4-8e43-4dfd-8154-ac8dd9f9681c",
   "metadata": {},
   "source": [
    "`unknown variable` is made of a data type called \"dictionary\". You will learn about later in the future."
   ]
  },
  {
   "cell_type": "markdown",
   "id": "324f54b2-400a-4782-9ab4-424f37eca662",
   "metadata": {},
   "source": [
    "**Example 3**"
   ]
  },
  {
   "cell_type": "code",
   "execution_count": 7,
   "id": "d68de6c9-5aed-4fe9-b646-4beffb520248",
   "metadata": {},
   "outputs": [],
   "source": [
    "x = 10\n",
    "y = 15"
   ]
  },
  {
   "cell_type": "code",
   "execution_count": 8,
   "id": "a6133476-df5e-4604-86bc-55e510f50be2",
   "metadata": {},
   "outputs": [
    {
     "name": "stdout",
     "output_type": "stream",
     "text": [
      "25\n"
     ]
    }
   ],
   "source": [
    "print(x + y)"
   ]
  },
  {
   "cell_type": "code",
   "execution_count": 9,
   "id": "1d4b6f1f-333f-4332-8013-e739da6183da",
   "metadata": {},
   "outputs": [],
   "source": [
    "z = x + y"
   ]
  },
  {
   "cell_type": "code",
   "execution_count": 10,
   "id": "9c5cf2a5-a9cd-4414-9d72-e5bb5804ffc0",
   "metadata": {},
   "outputs": [
    {
     "name": "stdout",
     "output_type": "stream",
     "text": [
      "25\n"
     ]
    }
   ],
   "source": [
    "print(z)"
   ]
  },
  {
   "cell_type": "markdown",
   "id": "d8e47bcf-b3a5-4abf-890c-cd6dbcd3979e",
   "metadata": {},
   "source": [
    "## Types of Data"
   ]
  },
  {
   "cell_type": "markdown",
   "id": "38f309d4-6055-4b15-b458-84122e5d0e81",
   "metadata": {},
   "source": [
    "Normally, you have to assign data type when creating a variable. But in Python, no need."
   ]
  },
  {
   "cell_type": "code",
   "execution_count": 15,
   "id": "b5732b20-81bc-40fc-9257-02e5c5ac4d46",
   "metadata": {},
   "outputs": [],
   "source": [
    "var = 15"
   ]
  },
  {
   "cell_type": "code",
   "execution_count": 16,
   "id": "bc64c8fd-2834-4150-b05f-522c045f1303",
   "metadata": {},
   "outputs": [],
   "source": [
    "var = \"Zaid\""
   ]
  },
  {
   "cell_type": "markdown",
   "id": "ec8221f9-cc21-4773-a166-0dc3657bae8f",
   "metadata": {},
   "source": [
    "## Integer"
   ]
  },
  {
   "cell_type": "markdown",
   "id": "78f1f047-acfd-4bf8-8bee-e5c4e3b9a46b",
   "metadata": {},
   "source": [
    "Integers are numbers without decimals."
   ]
  },
  {
   "cell_type": "code",
   "execution_count": 13,
   "id": "c2cb40b3-0b19-4f22-a417-92a6b7527191",
   "metadata": {},
   "outputs": [],
   "source": [
    "x = 10"
   ]
  },
  {
   "cell_type": "code",
   "execution_count": 14,
   "id": "8ba0d633-12bf-413d-aab3-cc4f48cd9390",
   "metadata": {},
   "outputs": [],
   "source": [
    "y = 25"
   ]
  },
  {
   "cell_type": "markdown",
   "id": "574027bc-7e5a-455f-a244-8e9449d3da45",
   "metadata": {},
   "source": [
    "## Float and Double"
   ]
  },
  {
   "cell_type": "markdown",
   "id": "67cfbeb5-1738-4c8d-aee6-b2492904ef36",
   "metadata": {},
   "source": [
    "Nubmers with decimals"
   ]
  },
  {
   "cell_type": "markdown",
   "id": "2d7a9ef9-0d0b-4542-b892-1b67476a0b8a",
   "metadata": {},
   "source": [
    "**Example 01**  \n",
    "Float + Float == Float"
   ]
  },
  {
   "cell_type": "code",
   "execution_count": 17,
   "id": "0e50c0c7-c05b-4783-a87e-901c9912429e",
   "metadata": {},
   "outputs": [],
   "source": [
    "x = 10.12"
   ]
  },
  {
   "cell_type": "code",
   "execution_count": 21,
   "id": "767975ad-34bb-4681-a865-7f7b42660cd5",
   "metadata": {},
   "outputs": [],
   "source": [
    "y = 24.88"
   ]
  },
  {
   "cell_type": "code",
   "execution_count": 22,
   "id": "bf9fef13-a590-4237-94ae-36a7074035f9",
   "metadata": {},
   "outputs": [
    {
     "name": "stdout",
     "output_type": "stream",
     "text": [
      "35.0\n"
     ]
    }
   ],
   "source": [
    "print(x + y)"
   ]
  },
  {
   "cell_type": "markdown",
   "id": "909aaf9d-551c-4326-8155-6fd8ec12190c",
   "metadata": {},
   "source": [
    "**Example 02**  \n",
    "Int + Int == Int"
   ]
  },
  {
   "cell_type": "code",
   "execution_count": 23,
   "id": "df84a614-1c13-4e7c-90e2-9ce0ac04b064",
   "metadata": {},
   "outputs": [],
   "source": [
    "x = 10"
   ]
  },
  {
   "cell_type": "code",
   "execution_count": 24,
   "id": "9b788a5c-c1e2-490e-ae14-71ac58844002",
   "metadata": {},
   "outputs": [],
   "source": [
    "y = 25"
   ]
  },
  {
   "cell_type": "code",
   "execution_count": 25,
   "id": "91c87ed7-1ea0-4862-aeca-1b5cedd940f6",
   "metadata": {},
   "outputs": [
    {
     "name": "stdout",
     "output_type": "stream",
     "text": [
      "35\n"
     ]
    }
   ],
   "source": [
    "print(x + y)"
   ]
  },
  {
   "cell_type": "markdown",
   "id": "7ced0802-3139-4ecf-8bda-dc48305637b0",
   "metadata": {},
   "source": [
    "**Example 03**  \n",
    "Float + Int == Float"
   ]
  },
  {
   "cell_type": "code",
   "execution_count": 26,
   "id": "62ee7b66-f5ee-4043-a6a3-c5ba27d342ca",
   "metadata": {},
   "outputs": [],
   "source": [
    "x = 10.0"
   ]
  },
  {
   "cell_type": "code",
   "execution_count": 27,
   "id": "38348ba8-3be0-4b95-85c8-508056bcbc38",
   "metadata": {},
   "outputs": [],
   "source": [
    "y = 25"
   ]
  },
  {
   "cell_type": "code",
   "execution_count": 28,
   "id": "8d9ab6bd-92ef-44ce-9e93-5ee52c4f0d96",
   "metadata": {},
   "outputs": [
    {
     "name": "stdout",
     "output_type": "stream",
     "text": [
      "35.0\n"
     ]
    }
   ],
   "source": [
    "print(x+y)"
   ]
  },
  {
   "cell_type": "markdown",
   "id": "0c47a942-be2a-481a-bbfe-85a12563a490",
   "metadata": {},
   "source": [
    "## String"
   ]
  },
  {
   "cell_type": "markdown",
   "id": "c6c06c24-1c3c-4c4f-812e-576e24663028",
   "metadata": {},
   "source": [
    "Means words, usually indicated with `\"\"`"
   ]
  },
  {
   "cell_type": "code",
   "execution_count": 30,
   "id": "434b21a9-18c9-48b7-a4f7-0e63d9b23d2c",
   "metadata": {},
   "outputs": [],
   "source": [
    "x = \"Zaid\""
   ]
  },
  {
   "cell_type": "code",
   "execution_count": 31,
   "id": "7bba4417-c571-412a-bf1a-04029e7f7615",
   "metadata": {},
   "outputs": [],
   "source": [
    "y = \"Ahmad\""
   ]
  },
  {
   "cell_type": "code",
   "execution_count": 35,
   "id": "6601a64b-ba6d-4554-84d3-3a05ac46e925",
   "metadata": {},
   "outputs": [
    {
     "name": "stdout",
     "output_type": "stream",
     "text": [
      "Zaid\n"
     ]
    }
   ],
   "source": [
    "print(x)"
   ]
  },
  {
   "cell_type": "code",
   "execution_count": 36,
   "id": "4ffaa9fb-1ba4-43e8-abc5-9cbf911c4308",
   "metadata": {},
   "outputs": [
    {
     "name": "stdout",
     "output_type": "stream",
     "text": [
      "Ahmad\n"
     ]
    }
   ],
   "source": [
    "print(y)"
   ]
  },
  {
   "cell_type": "markdown",
   "id": "b054fd35-5a63-449c-bbfc-5547bb760f08",
   "metadata": {},
   "source": [
    "## Boolean"
   ]
  },
  {
   "cell_type": "markdown",
   "id": "1148bd68-f3a1-4375-91f9-cf22cad7ff91",
   "metadata": {},
   "source": [
    "`True` and `False`"
   ]
  },
  {
   "cell_type": "code",
   "execution_count": 41,
   "id": "e8f4c5d9-673a-4ea8-a54a-cf1aa0d4b6a2",
   "metadata": {},
   "outputs": [
    {
     "name": "stdout",
     "output_type": "stream",
     "text": [
      "True\n"
     ]
    }
   ],
   "source": [
    "print(25 == 25)"
   ]
  },
  {
   "cell_type": "code",
   "execution_count": 42,
   "id": "ec57f44e-46de-4477-9ac4-9d6c9daf2390",
   "metadata": {},
   "outputs": [
    {
     "name": "stdout",
     "output_type": "stream",
     "text": [
      "False\n"
     ]
    }
   ],
   "source": [
    "print(25 == 35)"
   ]
  },
  {
   "cell_type": "markdown",
   "id": "2c37560e-c62c-4940-a51b-095a203cdd29",
   "metadata": {},
   "source": [
    "### Comparasion Operators"
   ]
  },
  {
   "cell_type": "markdown",
   "id": "b0ce70f2-d6a8-4c5a-9c80-866dafa465d7",
   "metadata": {},
   "source": [
    "Always returns a boolean"
   ]
  },
  {
   "cell_type": "markdown",
   "id": "c752a9a8-7f54-4116-a4b9-da3bbb8f0313",
   "metadata": {},
   "source": [
    "`>` and `<`"
   ]
  },
  {
   "cell_type": "code",
   "execution_count": 47,
   "id": "2ff775c5-d966-48b5-9f19-14b660229760",
   "metadata": {},
   "outputs": [
    {
     "name": "stdout",
     "output_type": "stream",
     "text": [
      "True\n"
     ]
    }
   ],
   "source": [
    "print(35 > 20)"
   ]
  },
  {
   "cell_type": "code",
   "execution_count": 48,
   "id": "fa35a44b-5d5f-4f4f-ab97-b38f0c5f9229",
   "metadata": {},
   "outputs": [
    {
     "name": "stdout",
     "output_type": "stream",
     "text": [
      "False\n"
     ]
    }
   ],
   "source": [
    "print(35 < 20)"
   ]
  },
  {
   "cell_type": "markdown",
   "id": "5db991d5-b016-4a02-81d2-d7bd54b8ef80",
   "metadata": {},
   "source": [
    "`>=` and `<=`"
   ]
  },
  {
   "cell_type": "code",
   "execution_count": 49,
   "id": "061f4092-c089-4d76-aa66-7358e92c6f7c",
   "metadata": {},
   "outputs": [
    {
     "name": "stdout",
     "output_type": "stream",
     "text": [
      "True\n"
     ]
    }
   ],
   "source": [
    "print(35 >= 35)"
   ]
  },
  {
   "cell_type": "code",
   "execution_count": 50,
   "id": "f5cb1724-e354-4d79-877c-fc0d2464d626",
   "metadata": {},
   "outputs": [
    {
     "name": "stdout",
     "output_type": "stream",
     "text": [
      "True\n"
     ]
    }
   ],
   "source": [
    "print(20 <= 20)"
   ]
  },
  {
   "cell_type": "code",
   "execution_count": 51,
   "id": "97a47986-2a1f-4812-8011-bb8f9b6777d6",
   "metadata": {},
   "outputs": [
    {
     "name": "stdout",
     "output_type": "stream",
     "text": [
      "True\n"
     ]
    }
   ],
   "source": [
    "print(35 >= 20)"
   ]
  },
  {
   "cell_type": "markdown",
   "id": "8712f36f-109a-41f2-820a-afb669190795",
   "metadata": {},
   "source": [
    "`==` and `!=`"
   ]
  },
  {
   "cell_type": "code",
   "execution_count": 52,
   "id": "49a0dcbc-93f9-4bed-a05b-91d43cdddfbd",
   "metadata": {},
   "outputs": [
    {
     "name": "stdout",
     "output_type": "stream",
     "text": [
      "True\n"
     ]
    }
   ],
   "source": [
    "print(35 == 35)"
   ]
  },
  {
   "cell_type": "code",
   "execution_count": 53,
   "id": "4855ade3-71fa-491d-89bd-ecffbef160cd",
   "metadata": {},
   "outputs": [
    {
     "name": "stdout",
     "output_type": "stream",
     "text": [
      "False\n"
     ]
    }
   ],
   "source": [
    "print(35 != 35)"
   ]
  },
  {
   "cell_type": "markdown",
   "id": "c2f59225-9d09-4928-b48f-17ab91a24cfe",
   "metadata": {},
   "source": [
    "`and`"
   ]
  },
  {
   "cell_type": "markdown",
   "id": "4f05a9d2-3848-4bdf-8a65-59fc5f5f3c95",
   "metadata": {},
   "source": [
    "Both left and right has to be `True`"
   ]
  },
  {
   "cell_type": "code",
   "execution_count": 54,
   "id": "f225a43e-5bcd-44cf-ae37-f53149235a51",
   "metadata": {},
   "outputs": [],
   "source": [
    "zaid_has_phone = True"
   ]
  },
  {
   "cell_type": "code",
   "execution_count": 55,
   "id": "fe06f8ab-c5f3-4911-8a62-cc159454cc2c",
   "metadata": {},
   "outputs": [],
   "source": [
    "zaid_has_laptop = False"
   ]
  },
  {
   "cell_type": "code",
   "execution_count": 56,
   "id": "808fe7c7-03f9-49e6-a040-9ec09e9ea5dc",
   "metadata": {},
   "outputs": [],
   "source": [
    "zaid_has_watch = True"
   ]
  },
  {
   "cell_type": "markdown",
   "id": "9126bed3-2758-40f4-8ac3-8be3c33432c9",
   "metadata": {},
   "source": [
    "  "
   ]
  },
  {
   "cell_type": "code",
   "execution_count": 60,
   "id": "8a6c20a8-037c-40dd-9cfd-aeb376776ac6",
   "metadata": {},
   "outputs": [],
   "source": [
    "zaid_has_watch_and_phone = zaid_has_phone and zaid_has_watch"
   ]
  },
  {
   "cell_type": "code",
   "execution_count": 61,
   "id": "947b7fc5-ce0f-4bc1-b2a5-0a38f5334a21",
   "metadata": {},
   "outputs": [
    {
     "name": "stdout",
     "output_type": "stream",
     "text": [
      "True\n"
     ]
    }
   ],
   "source": [
    "print(zaid_has_watch_and_phone)"
   ]
  },
  {
   "cell_type": "markdown",
   "id": "6a7f0527-3dce-4e2d-a5d7-f4c0cadfc4cc",
   "metadata": {},
   "source": [
    "  "
   ]
  },
  {
   "cell_type": "code",
   "execution_count": 62,
   "id": "1941cc36-90a0-4b7c-825b-cfb618137f9a",
   "metadata": {},
   "outputs": [],
   "source": [
    "zaid_has_laptop_and_watch = zaid_has_laptop and zaid_has_watch"
   ]
  },
  {
   "cell_type": "code",
   "execution_count": 63,
   "id": "56e4184d-ed0f-4694-8b08-1998582695e0",
   "metadata": {},
   "outputs": [
    {
     "name": "stdout",
     "output_type": "stream",
     "text": [
      "False\n"
     ]
    }
   ],
   "source": [
    "print(zaid_has_laptop_and_watch)"
   ]
  },
  {
   "cell_type": "markdown",
   "id": "645f8c84-8c63-4e35-9f6b-afb88ab79398",
   "metadata": {},
   "source": [
    "  "
   ]
  },
  {
   "cell_type": "code",
   "execution_count": 72,
   "id": "44939d5a-89f7-4c70-bd64-74c0c02e55ae",
   "metadata": {},
   "outputs": [
    {
     "data": {
      "text/plain": [
       "True"
      ]
     },
     "execution_count": 72,
     "metadata": {},
     "output_type": "execute_result"
    }
   ],
   "source": [
    "True and True"
   ]
  },
  {
   "cell_type": "code",
   "execution_count": 73,
   "id": "2de08cb9-aa68-41bd-9bc5-7af017703475",
   "metadata": {},
   "outputs": [
    {
     "data": {
      "text/plain": [
       "False"
      ]
     },
     "execution_count": 73,
     "metadata": {},
     "output_type": "execute_result"
    }
   ],
   "source": [
    "True and False"
   ]
  },
  {
   "cell_type": "code",
   "execution_count": 74,
   "id": "56c8674e-18ab-4935-8bc9-70ecdbadbf11",
   "metadata": {},
   "outputs": [
    {
     "data": {
      "text/plain": [
       "False"
      ]
     },
     "execution_count": 74,
     "metadata": {},
     "output_type": "execute_result"
    }
   ],
   "source": [
    "False and True"
   ]
  },
  {
   "cell_type": "code",
   "execution_count": 75,
   "id": "f978015c-317e-4caa-912d-bdac1d9d5514",
   "metadata": {},
   "outputs": [
    {
     "data": {
      "text/plain": [
       "False"
      ]
     },
     "execution_count": 75,
     "metadata": {},
     "output_type": "execute_result"
    }
   ],
   "source": [
    "False and False"
   ]
  },
  {
   "cell_type": "markdown",
   "id": "b04231e9-65b1-46e7-916e-1c745d345a06",
   "metadata": {},
   "source": [
    "  "
   ]
  },
  {
   "cell_type": "markdown",
   "id": "bd3d6088-da3e-4e96-9831-da1654157d5a",
   "metadata": {},
   "source": [
    "`or`"
   ]
  },
  {
   "cell_type": "code",
   "execution_count": 68,
   "id": "9e3813af-67f6-425f-960d-e39a99d24e69",
   "metadata": {},
   "outputs": [
    {
     "data": {
      "text/plain": [
       "True"
      ]
     },
     "execution_count": 68,
     "metadata": {},
     "output_type": "execute_result"
    }
   ],
   "source": [
    "True or True"
   ]
  },
  {
   "cell_type": "code",
   "execution_count": 69,
   "id": "00ed1641-7bfc-47a3-aa0c-6800bfa09f69",
   "metadata": {},
   "outputs": [
    {
     "data": {
      "text/plain": [
       "True"
      ]
     },
     "execution_count": 69,
     "metadata": {},
     "output_type": "execute_result"
    }
   ],
   "source": [
    "True or False"
   ]
  },
  {
   "cell_type": "code",
   "execution_count": 70,
   "id": "1cc18642-3233-437c-a14d-1bc88bba4c76",
   "metadata": {},
   "outputs": [
    {
     "data": {
      "text/plain": [
       "True"
      ]
     },
     "execution_count": 70,
     "metadata": {},
     "output_type": "execute_result"
    }
   ],
   "source": [
    "False or True"
   ]
  },
  {
   "cell_type": "code",
   "execution_count": 71,
   "id": "8e1f88a8-ddaa-41c8-9ddb-ec36bba2f880",
   "metadata": {},
   "outputs": [
    {
     "data": {
      "text/plain": [
       "False"
      ]
     },
     "execution_count": 71,
     "metadata": {},
     "output_type": "execute_result"
    }
   ],
   "source": [
    "False or False"
   ]
  },
  {
   "cell_type": "markdown",
   "id": "707234e3-0af4-472e-9786-6efcfe9f3fe7",
   "metadata": {},
   "source": [
    "  "
   ]
  },
  {
   "cell_type": "markdown",
   "id": "1179bbd5-504b-4cb6-91df-4709703de405",
   "metadata": {},
   "source": [
    "`not`"
   ]
  },
  {
   "cell_type": "code",
   "execution_count": 76,
   "id": "fd907396-e2ed-4fbc-872b-ebecb060b87e",
   "metadata": {},
   "outputs": [
    {
     "data": {
      "text/plain": [
       "False"
      ]
     },
     "execution_count": 76,
     "metadata": {},
     "output_type": "execute_result"
    }
   ],
   "source": [
    "not True"
   ]
  },
  {
   "cell_type": "code",
   "execution_count": 77,
   "id": "6a348dd1-7e18-4363-b84e-5665c89a4c06",
   "metadata": {},
   "outputs": [
    {
     "data": {
      "text/plain": [
       "True"
      ]
     },
     "execution_count": 77,
     "metadata": {},
     "output_type": "execute_result"
    }
   ],
   "source": [
    "not False"
   ]
  },
  {
   "cell_type": "markdown",
   "id": "2537e504-c39b-400b-8394-fe5fdc305e3d",
   "metadata": {},
   "source": [
    "## IF and Else"
   ]
  },
  {
   "cell_type": "code",
   "execution_count": 83,
   "id": "67972a96-6a8e-4175-9f94-813ea8f5ca47",
   "metadata": {},
   "outputs": [
    {
     "name": "stdout",
     "output_type": "stream",
     "text": [
      "Zaid has laptop\n"
     ]
    }
   ],
   "source": [
    "if(zaid_has_laptop):\n",
    "    print(\"Zaid has laptop\")\n",
    "else:\n",
    "    print(\"Zaid doesn't have laptop\")\n"
   ]
  },
  {
   "cell_type": "markdown",
   "id": "4983ff60-e156-4b92-864c-58851ea14404",
   "metadata": {},
   "source": [
    "**Another Example**"
   ]
  },
  {
   "cell_type": "code",
   "execution_count": 86,
   "id": "25c6b20f-bc4b-4e08-9f32-f64b1596e488",
   "metadata": {},
   "outputs": [
    {
     "name": "stdout",
     "output_type": "stream",
     "text": [
      "Block 1\n",
      "Hellooooo\n"
     ]
    }
   ],
   "source": [
    "if(True):\n",
    "    print(\"Block 1\")\n",
    "    print(\"Hellooooo\")\n",
    "else:\n",
    "    print(\"Block 2\")\n",
    "    print(\"Worrrrrld!\")"
   ]
  },
  {
   "cell_type": "code",
   "execution_count": 88,
   "id": "17da697b-d911-43ca-9b5d-bade021f283b",
   "metadata": {},
   "outputs": [
    {
     "name": "stdout",
     "output_type": "stream",
     "text": [
      "Block 2\n",
      "Worrrrrld!\n"
     ]
    }
   ],
   "source": [
    "if(False):\n",
    "    print(\"Block 1\")\n",
    "    print(\"Hellooooo\")\n",
    "else:\n",
    "    print(\"Block 2\")\n",
    "    print(\"Worrrrrld!\")"
   ]
  },
  {
   "cell_type": "code",
   "execution_count": 91,
   "id": "19c234da-fb7e-4c49-a110-79940e8947d5",
   "metadata": {},
   "outputs": [
    {
     "name": "stdout",
     "output_type": "stream",
     "text": [
      "Block 3\n"
     ]
    }
   ],
   "source": [
    "if(False):\n",
    "    print(\"Block 1\")\n",
    "    print(\"Hellooooo\")\n",
    "elif(True):\n",
    "    print(\"Block 3\")\n",
    "else:\n",
    "    print(\"Block 2\")\n",
    "    print(\"Worrrrrld!\")"
   ]
  },
  {
   "cell_type": "code",
   "execution_count": 93,
   "id": "6267f0ef-d5c9-4211-b4da-6b21d5a9a979",
   "metadata": {},
   "outputs": [
    {
     "name": "stdout",
     "output_type": "stream",
     "text": [
      "Block 4\n"
     ]
    }
   ],
   "source": [
    "if(False):\n",
    "    print(\"Block 1\")\n",
    "    print(\"Hellooooo\")\n",
    "elif(False):\n",
    "    print(\"Block 3\")\n",
    "elif(True):\n",
    "    print(\"Block 4\")\n",
    "else:\n",
    "    print(\"Block 2\")\n",
    "    print(\"Worrrrrld!\")"
   ]
  },
  {
   "cell_type": "code",
   "execution_count": 94,
   "id": "490061a8-a0ee-43fd-9875-df30dcac5b55",
   "metadata": {},
   "outputs": [
    {
     "name": "stdout",
     "output_type": "stream",
     "text": [
      "Block 2\n",
      "Worrrrrld!\n"
     ]
    }
   ],
   "source": [
    "if(False):\n",
    "    print(\"Block 1\")\n",
    "    print(\"Hellooooo\")\n",
    "elif(False):\n",
    "    print(\"Block 3\")\n",
    "elif(False):\n",
    "    print(\"Block 4\")\n",
    "else:\n",
    "    print(\"Block 2\")\n",
    "    print(\"Worrrrrld!\")"
   ]
  },
  {
   "cell_type": "markdown",
   "id": "800c93f0-ce1a-42eb-8c5a-1c871f1dfa1c",
   "metadata": {},
   "source": [
    "## Asking for info on terminal"
   ]
  },
  {
   "cell_type": "code",
   "execution_count": 99,
   "id": "e2f7fd50-91e9-4939-bda6-cc23cde17ea1",
   "metadata": {},
   "outputs": [
    {
     "name": "stdin",
     "output_type": "stream",
     "text": [
      "What's your name? Yazeed\n"
     ]
    },
    {
     "name": "stdout",
     "output_type": "stream",
     "text": [
      "Your name is Yazeed\n"
     ]
    }
   ],
   "source": [
    "name = input(\"What's your name?\")\n",
    "print(\"Your name is \" + name)"
   ]
  },
  {
   "cell_type": "markdown",
   "id": "df8273b9-40a8-4cbb-8165-99af28dfae58",
   "metadata": {},
   "source": [
    "## Mini Project"
   ]
  },
  {
   "cell_type": "markdown",
   "id": "323c35a1-1468-4a3d-8b59-3db52b6918cd",
   "metadata": {},
   "source": [
    "1. Ask for user's name\n",
    "2. Ask for user's age\n",
    "3. Ask if user has laptop\n",
    "4. Ask if user has phone\n",
    "5. Calculate user's age after 30 years\n",
    "6. **Example Output**: \"Your name is Yazeed, you are 23 years old. You will be 53 years old after 30 years. You have a laptop and you don't have a phone.\""
   ]
  },
  {
   "cell_type": "code",
   "execution_count": 116,
   "id": "5daf868f-b49f-4b8e-9b25-fdc60736b9e8",
   "metadata": {},
   "outputs": [
    {
     "name": "stdin",
     "output_type": "stream",
     "text": [
      "What's your name? Zaid\n",
      "How old are you? 15\n",
      "Do you have a laptop? (y/n) y\n",
      "Do you have a phone? (yes/no) yes\n"
     ]
    },
    {
     "name": "stdout",
     "output_type": "stream",
     "text": [
      "Your name is Zaid, you are 15 years old. You will be 45 years old after 30 years. You have a laptop and you have a phone.\n"
     ]
    }
   ],
   "source": [
    "output = \"\"\n",
    "\n",
    "name = input(\"What's your name?\")\n",
    "output = output + \"Your name is \" + name + \", \"\n",
    "\n",
    "age = input(\"How old are you?\")\n",
    "output = output + \"you are \" + age + \" years old. \"\n",
    "\n",
    "new_age = int(age) + 30\n",
    "output = output + \"You will be \" + str(new_age) + \" years old after 30 years. \"\n",
    "\n",
    "has_laptop = input(\"Do you have a laptop? (y/n)\")\n",
    "if has_laptop == \"y\":\n",
    "    output = output + \"You have a laptop \"\n",
    "elif has_laptop == \"n\":\n",
    "    output = output + \"You don't have a laptop \"\n",
    "else:\n",
    "    print(\"-----------------------------------\")\n",
    "    print(\"\\nError: Please answer with y or n\\n\")\n",
    "    print(\"-----------------------------------\")\n",
    "\n",
    "has_phone = input(\"Do you have a phone? (yes/no)\")\n",
    "if has_phone == \"yes\":\n",
    "    output = output + \"and you have a phone.\"\n",
    "elif has_phone == \"no\":\n",
    "    output = output + \"and you don't have a phone.\"\n",
    "else:\n",
    "    print(\"-----------------------------------\")\n",
    "    print(\"\\nError: Please answer with yes or no\\n\")\n",
    "    print(\"-----------------------------------\")\n",
    "\n",
    "print(output)"
   ]
  },
  {
   "cell_type": "code",
   "execution_count": null,
   "id": "2b90236a-462b-42f0-99f3-639808217f34",
   "metadata": {},
   "outputs": [],
   "source": []
  }
 ],
 "metadata": {
  "kernelspec": {
   "display_name": "Python 3 (ipykernel)",
   "language": "python",
   "name": "python3"
  },
  "language_info": {
   "codemirror_mode": {
    "name": "ipython",
    "version": 3
   },
   "file_extension": ".py",
   "mimetype": "text/x-python",
   "name": "python",
   "nbconvert_exporter": "python",
   "pygments_lexer": "ipython3",
   "version": "3.11.13"
  }
 },
 "nbformat": 4,
 "nbformat_minor": 5
}
