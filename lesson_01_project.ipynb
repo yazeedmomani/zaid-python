{
 "cells": [
  {
   "cell_type": "markdown",
   "id": "89ea98c6-2e7d-4035-a66f-8b323fafa952",
   "metadata": {},
   "source": [
    "# Project 01"
   ]
  },
  {
   "cell_type": "markdown",
   "id": "98d147ba-2118-48af-afdf-1db069a7e77d",
   "metadata": {},
   "source": [
    "Build a calculator in a terminal.  \n",
    "  \n",
    "**Example Output**  \n",
    "`Write first number: 15`  \n",
    "`Write second number: 25`  \n",
    "`What type of operation (+, -, *, /, %)? +`  \n",
    "`Answer is 40`  \n",
    "  \n",
    "**Example Output**  \n",
    "`Write first number: 25`  \n",
    "`Write second number: 4`  \n",
    "`What type of operation (+, -, *, /, %)? %`  \n",
    "`Answer is 1`  "
   ]
  },
  {
   "cell_type": "code",
   "execution_count": null,
   "id": "36d6f349-965a-467a-b36f-905beb43efa0",
   "metadata": {},
   "outputs": [],
   "source": []
  }
 ],
 "metadata": {
  "kernelspec": {
   "display_name": "Python 3 (ipykernel)",
   "language": "python",
   "name": "python3"
  },
  "language_info": {
   "codemirror_mode": {
    "name": "ipython",
    "version": 3
   },
   "file_extension": ".py",
   "mimetype": "text/x-python",
   "name": "python",
   "nbconvert_exporter": "python",
   "pygments_lexer": "ipython3",
   "version": "3.11.13"
  }
 },
 "nbformat": 4,
 "nbformat_minor": 5
}
