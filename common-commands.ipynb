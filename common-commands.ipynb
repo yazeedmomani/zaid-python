{
 "cells": [
  {
   "cell_type": "markdown",
   "id": "695d66d7-b0e3-40c1-9f7c-0787c45895ad",
   "metadata": {},
   "source": [
    "# Common Commands"
   ]
  },
  {
   "cell_type": "markdown",
   "id": "3ee1a175-5ea5-4680-85b3-0937d5aecd79",
   "metadata": {},
   "source": [
    "## Updating then starting a project"
   ]
  },
  {
   "cell_type": "markdown",
   "id": "0158a9e3-21e6-4a6e-a543-3fe8180f2da7",
   "metadata": {},
   "source": [
    "1. First you move to the project folder with `cd` to move and `dir` to list folders.\n",
    "2. `git pull` to fetch latest update.\n",
    "3. `conda activate env` to enter env.\n",
    "4. `jupyter notebook` to start."
   ]
  },
  {
   "cell_type": "markdown",
   "id": "755eacee-1811-42d6-b28d-d8d6f32e0bbc",
   "metadata": {},
   "source": [
    "## Saving changes then pushing to github"
   ]
  },
  {
   "cell_type": "markdown",
   "id": "95f2f40a-3925-4e4c-b50e-213f21c16353",
   "metadata": {},
   "source": [
    "1. Save changes and leave jupyter notebook by pressing `control + c` in the terminal\n",
    "2. `git add .` to add latest changes.\n",
    "3. `git status` to check if added (green means added)\n",
    "4. `git commit -m \"whatever you want\"` to save changes\n",
    "5. `git push origin main` to push latest changes to Github"
   ]
  },
  {
   "cell_type": "code",
   "execution_count": null,
   "id": "c5606bbf-e1c5-49f8-af8b-f8321946f7ea",
   "metadata": {},
   "outputs": [],
   "source": []
  }
 ],
 "metadata": {
  "kernelspec": {
   "display_name": "Python 3 (ipykernel)",
   "language": "python",
   "name": "python3"
  },
  "language_info": {
   "codemirror_mode": {
    "name": "ipython",
    "version": 3
   },
   "file_extension": ".py",
   "mimetype": "text/x-python",
   "name": "python",
   "nbconvert_exporter": "python",
   "pygments_lexer": "ipython3",
   "version": "3.11.13"
  }
 },
 "nbformat": 4,
 "nbformat_minor": 5
}
